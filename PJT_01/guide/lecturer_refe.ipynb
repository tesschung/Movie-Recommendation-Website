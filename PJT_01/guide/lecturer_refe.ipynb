{
 "cells": [
  {
   "cell_type": "markdown",
   "metadata": {},
   "source": [
    "## 우리가 만들고자 하는 딕셔너리의 최종 모습\n",
    "\n",
    "* Key값을 movieCd로 하는 이유는 중복 체크를 편하게 하기 위해서! 만약에 키 값이 아니면.. 또다시 반복문 ㅠ\n",
    "\n",
    "```\n",
    "{\n",
    "    '20196309': {\n",
    "        'movieCd': '20196309',\n",
    "        'movieNm': '스파이더맨',\n",
    "        'audiAcc': 6685161\n",
    "    },\n",
    "    '20183867': {\n",
    "        'movieCd': '20183867',\n",
    "        'movieNm': '알라딘',\n",
    "        'audiAcc': 123213\n",
    "    },\n",
    "    '20196309': {\n",
    "        'movieCd': '20196309',\n",
    "        'movieNm': '스파이더맨',\n",
    "        'audiAcc': 6685161\n",
    "    }\n",
    "}\n",
    "```"
   ]
  },
  {
   "cell_type": "code",
   "execution_count": null,
   "metadata": {},
   "outputs": [],
   "source": [
    "# 1. 항상 문제는 쪼개서 풀어야한다! 먼저 하루 데이터 가져와서 만들기!\n",
    "import requests\n",
    "key = '----'\n",
    "targetDt = '20190713' #yyyymmdd\n",
    "api_url = f'http://www.kobis.or.kr/kobisopenapi/webservice/rest/boxoffice/searchWeeklyBoxOfficeList.json?key={key}&targetDt={targetDt}'\n",
    "print(api_url)\n",
    "response = requests.get(api_url).json()"
   ]
  },
  {
   "cell_type": "code",
   "execution_count": null,
   "metadata": {},
   "outputs": [],
   "source": [
    "# 2. 구조 확인하기!\n",
    "response['boxOfficeResult']['weeklyBoxOfficeList']"
   ]
  },
  {
   "cell_type": "code",
   "execution_count": null,
   "metadata": {},
   "outputs": [],
   "source": [
    "# 3. 내가 원하는 데이터 뽑아내보기!\n",
    "for i in range(0, 10):\n",
    "    movieCd = response['boxOfficeResult']['weeklyBoxOfficeList'][i]['movieCd']\n",
    "    audiAcc = response['boxOfficeResult']['weeklyBoxOfficeList'][i]['audiAcc']\n",
    "    movieNm = response['boxOfficeResult']['weeklyBoxOfficeList'][i]['movieNm']\n",
    "    print(movieCd, audiAcc, movieNm)\n",
    "# 뭔가 반복되는 코드가 있다? -> 나는 더 개선할 여지가 있다!\n",
    "# 다시 response['boxOfficeResult']['weeklyBoxOfficeList'] 이 것을 보면 리스트!\n",
    "# 리스트 안에 있는 것 다 내놔!로 표현하면 좋지 않을까. "
   ]
  },
  {
   "cell_type": "code",
   "execution_count": null,
   "metadata": {},
   "outputs": [],
   "source": [
    "# 4. 이제 딕셔너리를 만들어볼까?\n",
    "# 만들고자하는 결과통을\n",
    "movie_data = {}\n",
    "# 리스트에서 꺼내주는 것은 개별 영화에 대한 데이터! 변수명을 movie로 하면 보기가 좀 더 좋다.\n",
    "for movie in response['boxOfficeResult']['weeklyBoxOfficeList']:\n",
    "    movie_data[movie.get('movieCd')] = {\n",
    "                                        '영화코드': movie.get('movieCd'),\n",
    "                                        '누적관객수': movie.get('audiAcc'),\n",
    "                                        '영화이름': movie.get('movieNm')\n",
    "                                    }\n",
    "print(movie_data)"
   ]
  },
  {
   "cell_type": "code",
   "execution_count": null,
   "metadata": {
    "scrolled": true
   },
   "outputs": [],
   "source": [
    "# 5일로 늘려보자!\n",
    "import datetime\n",
    "import requests\n",
    "\n",
    "for i in range(5):\n",
    "    targetDt = datetime.datetime(2019, 7, 13) - datetime.timedelta(weeks=i)\n",
    "    targetDt = targetDt.strftime('%Y%m%d') #yyyymmdd\n",
    "    api_url = f'http://www.kobis.or.kr/kobisopenapi/webservice/rest/boxoffice/searchWeeklyBoxOfficeList.json?key={key}&targetDt={targetDt}&weekGb=0'\n",
    "    response = requests.get(api_url).json()\n",
    "    movie_data = {}\n",
    "    for movie in response['boxOfficeResult']['weeklyBoxOfficeList']:\n",
    "        movie_data[movie.get('movieCd')] = {\n",
    "                                            '영화코드': movie.get('movieCd'),\n",
    "                                            '누적관객수': movie.get('audiAcc'),\n",
    "                                            '영화이름': movie.get('movieNm')\n",
    "                                        }\n",
    "print(movie_data)"
   ]
  },
  {
   "cell_type": "code",
   "execution_count": null,
   "metadata": {},
   "outputs": [],
   "source": [
    "# movie_data 초기화가 되어버린다! 밖으로 꺼내자.\n",
    "import datetime\n",
    "import requests\n",
    "\n",
    "key = '----'\n",
    "movie_data = {}\n",
    "for i in range(5):\n",
    "    targetDt = datetime.datetime(2019, 7, 13) - datetime.timedelta(weeks=i)\n",
    "    targetDt = targetDt.strftime('%Y%m%d') #yyyymmdd\n",
    "    api_url = f'http://www.kobis.or.kr/kobisopenapi/webservice/rest/boxoffice/searchWeeklyBoxOfficeList.json?key={key}&targetDt={targetDt}&weekGb=0'\n",
    "    response = requests.get(api_url).json()\n",
    "    for movie in response['boxOfficeResult']['weeklyBoxOfficeList']:\n",
    "        movie_data[movie.get('movieCd')] = {\n",
    "                                            '영화코드': movie.get('movieCd'),\n",
    "                                            '누적관객수': movie.get('audiAcc'),\n",
    "                                            '영화이름': movie.get('movieNm')\n",
    "                                        }\n",
    "print(movie_data)"
   ]
  },
  {
   "cell_type": "code",
   "execution_count": null,
   "metadata": {},
   "outputs": [],
   "source": [
    "# 값이 최신 데이터가 아니라 옛날 데이터이다. \n",
    "# 이를 해결하기 위해서는 옛날부터해서 2019년 7월 13일로 오거나\n",
    "# 조건문을 추가한다!\n",
    "# movie_data 초기화가 되어버린다! 밖으로 꺼내자.\n",
    "import datetime\n",
    "import requests\n",
    "\n",
    "movie_data = {}\n",
    "for i in range(5):\n",
    "    targetDt = datetime.datetime(2019, 7, 13) - datetime.timedelta(weeks=i)\n",
    "    targetDt = targetDt.strftime('%Y%m%d') #yyyymmdd\n",
    "    api_url = f'http://www.kobis.or.kr/kobisopenapi/webservice/rest/boxoffice/searchWeeklyBoxOfficeList.json?key={key}&targetDt={targetDt}&weekGb=0'\n",
    "    response = requests.get(api_url).json()\n",
    "    for movie in response['boxOfficeResult']['weeklyBoxOfficeList']:\n",
    "        # 무슨 값을 어디에 있는 값이랑 비교를 해야 하는지 반드시 생각해보자.\n",
    "        # -> 가져온 데이터에 있는 값이 지금 누적해서 결과를 만드는 movie_data에 있는지를 확인!\n",
    "        if movie.get('movieCd') not in movie_data:\n",
    "            movie_data[movie.get('movieCd')] = {\n",
    "                                                '영화코드': movie.get('movieCd'),\n",
    "                                                '누적관객수': movie.get('audiAcc'),\n",
    "                                                '영화이름': movie.get('movieNm')\n",
    "                                            }\n",
    "print(movie_data)"
   ]
  },
  {
   "cell_type": "code",
   "execution_count": null,
   "metadata": {},
   "outputs": [],
   "source": [
    "# 끝났다. 이제 csv에 저장하자\n",
    "import csv\n",
    "with open('boxoffice.csv', 'w', encoding='utf-8') as f:\n",
    "    fieldnames = ['영화코드', '누적관객수', '영화이름'] # 여기만 변경\n",
    "    csv_writer = csv.DictWriter(f, fieldnames=fieldnames)\n",
    "    csv_writer.writeheader()\n",
    "    for item in movie_data.values(): # 딕셔너리 만든 것 반복\n",
    "        csv_writer.writerow(item)"
   ]
  },
  {
   "cell_type": "code",
   "execution_count": null,
   "metadata": {},
   "outputs": [],
   "source": [
    "# 최종 주석 없는 코드\n",
    "import csv\n",
    "import datetime\n",
    "import requests\n",
    "\n",
    "key = '----'\n",
    "movie_data = {}\n",
    "for i in range(5):\n",
    "    targetDt = datetime.datetime(2019, 7, 13) - datetime.timedelta(weeks=i)\n",
    "    targetDt = targetDt.strftime('%Y%m%d')\n",
    "    api_url = f'http://www.kobis.or.kr/kobisopenapi/webservice/rest/boxoffice/searchWeeklyBoxOfficeList.json?key={key}&targetDt={targetDt}&weekGb=0'\n",
    "    response = requests.get(api_url).json()\n",
    "    for movie in response['boxOfficeResult']['weeklyBoxOfficeList']:\n",
    "        if movie.get('movieCd') not in movie_data:\n",
    "            movie_data[movie.get('movieCd')] = {\n",
    "                                                '영화코드': movie.get('movieCd'),\n",
    "                                                '누적관객수': movie.get('audiAcc'),\n",
    "                                                '영화이름': movie.get('movieNm')\n",
    "                                            }\n",
    "\n",
    "with open('boxoffice.csv', 'w', encoding='utf-8') as f:\n",
    "    fieldnames = ['영화코드', '누적관객수', '영화이름'] \n",
    "    csv_writer = csv.DictWriter(f, fieldnames=fieldnames)\n",
    "    csv_writer.writeheader()\n",
    "    for item in movie_data.values():\n",
    "        csv_writer.writerow(item)"
   ]
  }
 ],
 "metadata": {
  "kernelspec": {
   "display_name": "Python 3",
   "language": "python",
   "name": "python3"
  },
  "language_info": {
   "codemirror_mode": {
    "name": "ipython",
    "version": 3
   },
   "file_extension": ".py",
   "mimetype": "text/x-python",
   "name": "python",
   "nbconvert_exporter": "python",
   "pygments_lexer": "ipython3",
   "version": "3.7.4"
  },
  "toc": {
   "base_numbering": 1,
   "nav_menu": {},
   "number_sections": true,
   "sideBar": true,
   "skip_h1_title": false,
   "title_cell": "Table of Contents",
   "title_sidebar": "Contents",
   "toc_cell": false,
   "toc_position": {},
   "toc_section_display": true,
   "toc_window_display": false
  }
 },
 "nbformat": 4,
 "nbformat_minor": 2
}
